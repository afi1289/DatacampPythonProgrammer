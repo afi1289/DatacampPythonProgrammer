{
 "cells": [
  {
   "cell_type": "markdown",
   "metadata": {},
   "source": [
    "# Introduction to Data Science in Python"
   ]
  },
  {
   "cell_type": "markdown",
   "metadata": {},
   "source": [
    "## Course Description\n",
    "Begin your journey into Data Science! Even if you've never written a line of code in your life, you'll be able to follow this course and witness the power of Python to perform Data Science. You'll use data to solve the mystery of Bayes, the kidnapped Golden Retriever, and along the way you'll become familiar with basic Python syntax and popular Data Science modules like Matplotlib (for charts and graphs) and Pandas (for tabular data).\n",
    "\n"
   ]
  },
  {
   "cell_type": "markdown",
   "metadata": {},
   "source": [
    "## Getting Started in Python\n",
    "Welcome to the wonderful world of Data Analysis in Python! In this chapter, you'll learn the basics of Python syntax, load your first Python modules, and use functions to get a suspect list for the kidnapping of Bayes, DataCamp's prize-winning Golden Retriever."
   ]
  },
  {
   "cell_type": "markdown",
   "metadata": {},
   "source": [
    "### Importing Python modules\n",
    "Modules (sometimes called packages or libraries) help group together related sets of tools in Python. In this exercise, we'll examine two modules that are frequently used by Data Scientists:\n",
    "\n",
    " 1. `statsmodels`: used in machine learning; usually aliased as `sm`\n",
    " 2. `seaborn`: a visualization library; usually aliased as `sns`\n",
    "Note that each module has a standard alias, which allows you to access the tools inside of the module without typing as many characters. For example, aliasing lets us shorten `seaborn.scatterplot()` to `sns.scatterplot()`."
   ]
  },
  {
   "cell_type": "code",
   "execution_count": 2,
   "metadata": {},
   "outputs": [],
   "source": [
    "# Import statsmodels under the alias sm\n",
    "import statsmodels as sm\n",
    "\n",
    "# Use an import statement to import seaborn with alias sns\n",
    "import seaborn as sns"
   ]
  },
  {
   "cell_type": "markdown",
   "metadata": {},
   "source": [
    "### Correcting a broken import\n",
    "In this exercise, we'll learn to import `numpy`, a module for performing mathematical operations on lists of data. The standard alias for `numpy` is `np`."
   ]
  },
  {
   "cell_type": "code",
   "execution_count": 1,
   "metadata": {},
   "outputs": [],
   "source": [
    "# Use an import statement to import numpy with alias np\n",
    "import numpy"
   ]
  },
  {
   "cell_type": "markdown",
   "metadata": {},
   "source": [
    "### Creating a float\n",
    "Before we start looking for Bayes' kidnapper, we need to fill out a Missing Puppy Report with details of the case. Each piece of information will be stored as a variable.\n",
    "\n",
    "We define a variable using an equals sign (`=`). For instance, we would define the variable height:\n",
    "\n",
    "    height = 24\n",
    "In this exercise, we'll be defining `bayes_age` to be `4.0` months old. The data type for this variable will be float, meaning that it is a number."
   ]
  },
  {
   "cell_type": "code",
   "execution_count": 3,
   "metadata": {},
   "outputs": [
    {
     "name": "stdout",
     "output_type": "stream",
     "text": [
      "4.0\n"
     ]
    }
   ],
   "source": [
    "# Fill in Bayes' age (4.0)\n",
    "bayes_age = 4.0\n",
    "\n",
    "# Display the variable bayes_age\n",
    "print(bayes_age)"
   ]
  },
  {
   "cell_type": "markdown",
   "metadata": {},
   "source": [
    "### Creating strings\n",
    "Let's continue to fill out the Missing Puppy Report for Bayes. In the previous exercise, we defined `bayes_age`, which was a float, which represents a number.\n",
    "\n",
    "In this exercise, we'll define `favorite_toy` and `owner`, which will both be strings. A string represents text. A string is surrounded by quotation marks (`'` or `\"`) and can contain letters, numbers, and special characters. It doesn't matter if you use single (`'`) or double (`\"`) quotes, but it's important to be consistent throughout your code."
   ]
  },
  {
   "cell_type": "code",
   "execution_count": 4,
   "metadata": {},
   "outputs": [
    {
     "name": "stdout",
     "output_type": "stream",
     "text": [
      "Mr. Squeaky\n",
      "DataCamp\n"
     ]
    }
   ],
   "source": [
    "# Bayes' favorite toy\n",
    "favorite_toy = \"Mr. Squeaky\"\n",
    "\n",
    "# Bayes' owner\n",
    "owner = 'DataCamp'\n",
    "\n",
    "# Display variables\n",
    "print(favorite_toy)\n",
    "print(owner)"
   ]
  },
  {
   "cell_type": "markdown",
   "metadata": {},
   "source": [
    "### Correcting string errors\n",
    "It's easy to make errors when you're trying to type strings quickly.\n",
    "\n",
    "* Don't forget to use quotes! Without quotes, you'll get a name error.\n",
    "\n",
    "        owner = DataCamp\n",
    "    \n",
    "* Use the same type of quotation mark. If you start with a single quote, and end with a double quote, you'll get a syntax error.\n",
    "        \n",
    "        fur_color = \"blonde'\n",
    "\n",
    "Someone at the police station made an error when filling out the final lines of Bayes' Missing Puppy Report. In this exercise, you will correct the errors."
   ]
  },
  {
   "cell_type": "code",
   "execution_count": 5,
   "metadata": {},
   "outputs": [],
   "source": [
    "# One or more of the following lines contains an error\n",
    "# Correct it so that it runs without producing syntax errors\n",
    "birthday = \"2017-07-14\"\n",
    "case_id = 'DATACAMP!123-456?'"
   ]
  },
  {
   "cell_type": "markdown",
   "metadata": {},
   "source": [
    "### Valid variable names\n",
    "Which of the following is not a valid variable name?"
   ]
  },
  {
   "cell_type": "markdown",
   "metadata": {},
   "source": [
    "Possible Answers\n",
    "\n",
    "[] my_dog_bayes\n",
    "\n",
    "[] BAYES42\n",
    "\n",
    "[x] 3dogs\n",
    "\n",
    "[] this_is_a_very_long_variable_name_42"
   ]
  },
  {
   "cell_type": "markdown",
   "metadata": {},
   "source": [
    "### Load a DataFrame\n",
    "A ransom note was left at the scene of Bayes' kidnapping. Eventually, we'll want to analyze the frequency with which each letter occurs in the note, to help us identify the kidnapper. For now, we just need to load the data from `ransom.csv` into Python.\n",
    "\n",
    "We'll load the data into a DataFrame, a special data type from the `pandas` module. It represents spreadsheet-like data (something with rows and columns).\n",
    "\n",
    "We can create a DataFrame from a CSV (comma-separated value) file by using the function `pd.read_csv`."
   ]
  },
  {
   "cell_type": "code",
   "execution_count": 18,
   "metadata": {},
   "outputs": [
    {
     "data": {
      "text/html": [
       "<div>\n",
       "<style scoped>\n",
       "    .dataframe tbody tr th:only-of-type {\n",
       "        vertical-align: middle;\n",
       "    }\n",
       "\n",
       "    .dataframe tbody tr th {\n",
       "        vertical-align: top;\n",
       "    }\n",
       "\n",
       "    .dataframe thead th {\n",
       "        text-align: right;\n",
       "    }\n",
       "</style>\n",
       "<table border=\"1\" class=\"dataframe\">\n",
       "  <thead>\n",
       "    <tr style=\"text-align: right;\">\n",
       "      <th></th>\n",
       "      <th>letter_index</th>\n",
       "      <th>letter</th>\n",
       "      <th>frequency</th>\n",
       "    </tr>\n",
       "  </thead>\n",
       "  <tbody>\n",
       "    <tr>\n",
       "      <th>0</th>\n",
       "      <td>1</td>\n",
       "      <td>A</td>\n",
       "      <td>7.38</td>\n",
       "    </tr>\n",
       "    <tr>\n",
       "      <th>1</th>\n",
       "      <td>2</td>\n",
       "      <td>B</td>\n",
       "      <td>1.09</td>\n",
       "    </tr>\n",
       "    <tr>\n",
       "      <th>2</th>\n",
       "      <td>3</td>\n",
       "      <td>C</td>\n",
       "      <td>2.46</td>\n",
       "    </tr>\n",
       "    <tr>\n",
       "      <th>3</th>\n",
       "      <td>4</td>\n",
       "      <td>D</td>\n",
       "      <td>4.10</td>\n",
       "    </tr>\n",
       "    <tr>\n",
       "      <th>4</th>\n",
       "      <td>5</td>\n",
       "      <td>E</td>\n",
       "      <td>12.84</td>\n",
       "    </tr>\n",
       "  </tbody>\n",
       "</table>\n",
       "</div>"
      ],
      "text/plain": [
       "   letter_index letter  frequency\n",
       "0             1      A       7.38\n",
       "1             2      B       1.09\n",
       "2             3      C       2.46\n",
       "3             4      D       4.10\n",
       "4             5      E      12.84"
      ]
     },
     "execution_count": 18,
     "metadata": {},
     "output_type": "execute_result"
    }
   ],
   "source": [
    "# Import pandas\n",
    "import pandas as pd\n",
    "\n",
    "# Load the 'ransom.csv' into a DataFrame\n",
    "r = pd.read_csv('datasets/ransom.csv')\n",
    "\n",
    "# Display DataFrame\n",
    "r.head()"
   ]
  },
  {
   "cell_type": "markdown",
   "metadata": {},
   "source": [
    "### Correcting a function error\n",
    "The code in the script editor should plot information from the DataFrame that we loaded in the previous exercise.\n",
    "\n",
    "However, there is an error in function syntax. Remember that common function errors include:\n",
    "\n",
    " * Forgetting closing parenthesis\n",
    " * Forgetting commas between each argument\n",
    "\n",
    "Note that all arguments to the functions are correct. The problem is in the function syntax."
   ]
  },
  {
   "cell_type": "code",
   "execution_count": 19,
   "metadata": {},
   "outputs": [],
   "source": [
    "x_values = r['letter']\n",
    "y_values = r['frequency']"
   ]
  },
  {
   "cell_type": "code",
   "execution_count": 22,
   "metadata": {},
   "outputs": [
    {
     "data": {
      "image/png": "[encoded data removed]",
      "text/plain": [
       "<Figure size 576x396 with 1 Axes>"
      ]
     },
     "metadata": {},
     "output_type": "display_data"
    }
   ],
   "source": [
    "# One or more of the following lines contains an error\n",
    "# Correct it so that it runs without producing syntax errors\n",
    "import matplotlib.pyplot as plt \n",
    "plt.style.use('seaborn')\n",
    "\n",
    "# Plot a graph\n",
    "plt.plot(x_values, y_values)\n",
    "\n",
    "# Display the graph\n",
    "plt.show()"
   ]
  },
  {
   "cell_type": "markdown",
   "metadata": {},
   "source": [
    "### Snooping for suspects\n",
    "We need to narrow down the list of suspects for the kidnapping of Bayes. Once we have a list of suspects, we'll ask them for writing samples and compare them to the ransom note.\n",
    "\n",
    "A witness to the crime noticed a green truck leaving the scene of the crime whose license plate began with 'FRQ'. We'll use this information to search for some suspects.\n",
    "\n",
    "As a detective, you have access to a special function called `lookup_plate`.\n",
    "\n",
    "`lookup_plate` accepts one positional argument: A string representing a license plate."
   ]
  },
  {
   "cell_type": "code",
   "execution_count": null,
   "metadata": {},
   "outputs": [],
   "source": [
    "# Define plate to represent a plate beginning with FRQ\n",
    "# Use * to represent the missing four letters\n",
    "plate = 'FRQ****'\n",
    "\n",
    "# # Call the function lookup_plate()\n",
    "# lookup_plate(plate)\n",
    "\n",
    "# # Call lookup_plate() with the keyword argument for color\n",
    "# lookup_plate(plate, color='Green')"
   ]
  },
  {
   "cell_type": "markdown",
   "metadata": {},
   "source": [
    "### Loading a DataFrame\n",
    "We're still working hard to solve the kidnapping of Bayes, the Golden Retriever. Previously, we used a license plate spotted at the crime scene to narrow the list of suspects to:\n",
    "\n",
    "- Fred Frequentist\n",
    "- Ronald Aylmer Fisher\n",
    "- Gertrude Cox\n",
    "- Kirstine Smith\n",
    "\n",
    "We've obtained credit card records for all four suspects. Perhaps some of them made suspicious purchases before the kidnapping?\n",
    "\n",
    "The records are in a CSV called \"`credit_records.csv`\"."
   ]
  },
  {
   "cell_type": "code",
   "execution_count": 36,
   "metadata": {},
   "outputs": [
    {
     "data": {
      "text/html": [
       "<div>\n",
       "<style scoped>\n",
       "    .dataframe tbody tr th:only-of-type {\n",
       "        vertical-align: middle;\n",
       "    }\n",
       "\n",
       "    .dataframe tbody tr th {\n",
       "        vertical-align: top;\n",
       "    }\n",
       "\n",
       "    .dataframe thead th {\n",
       "        text-align: right;\n",
       "    }\n",
       "</style>\n",
       "<table border=\"1\" class=\"dataframe\">\n",
       "  <thead>\n",
       "    <tr style=\"text-align: right;\">\n",
       "      <th></th>\n",
       "      <th>suspect</th>\n",
       "      <th>location</th>\n",
       "      <th>date</th>\n",
       "      <th>item</th>\n",
       "      <th>price</th>\n",
       "    </tr>\n",
       "  </thead>\n",
       "  <tbody>\n",
       "    <tr>\n",
       "      <th>0</th>\n",
       "      <td>Kirstine Smith</td>\n",
       "      <td>Groceries R Us</td>\n",
       "      <td>January 6, 2018</td>\n",
       "      <td>broccoli</td>\n",
       "      <td>1.25</td>\n",
       "    </tr>\n",
       "    <tr>\n",
       "      <th>1</th>\n",
       "      <td>Gertrude Cox</td>\n",
       "      <td>Petroleum Plaza</td>\n",
       "      <td>January 6, 2018</td>\n",
       "      <td>fizzy drink</td>\n",
       "      <td>1.90</td>\n",
       "    </tr>\n",
       "    <tr>\n",
       "      <th>2</th>\n",
       "      <td>Fred Frequentist</td>\n",
       "      <td>Groceries R Us</td>\n",
       "      <td>January 6, 2018</td>\n",
       "      <td>broccoli</td>\n",
       "      <td>1.25</td>\n",
       "    </tr>\n",
       "    <tr>\n",
       "      <th>3</th>\n",
       "      <td>Gertrude Cox</td>\n",
       "      <td>Groceries R Us</td>\n",
       "      <td>January 12, 2018</td>\n",
       "      <td>broccoli</td>\n",
       "      <td>1.25</td>\n",
       "    </tr>\n",
       "    <tr>\n",
       "      <th>4</th>\n",
       "      <td>Kirstine Smith</td>\n",
       "      <td>Clothing Club</td>\n",
       "      <td>January 9, 2018</td>\n",
       "      <td>shirt</td>\n",
       "      <td>14.25</td>\n",
       "    </tr>\n",
       "  </tbody>\n",
       "</table>\n",
       "</div>"
      ],
      "text/plain": [
       "            suspect         location              date         item  price\n",
       "0    Kirstine Smith   Groceries R Us   January 6, 2018     broccoli   1.25\n",
       "1      Gertrude Cox  Petroleum Plaza   January 6, 2018  fizzy drink   1.90\n",
       "2  Fred Frequentist   Groceries R Us   January 6, 2018     broccoli   1.25\n",
       "3      Gertrude Cox   Groceries R Us  January 12, 2018     broccoli   1.25\n",
       "4    Kirstine Smith    Clothing Club   January 9, 2018        shirt  14.25"
      ]
     },
     "execution_count": 36,
     "metadata": {},
     "output_type": "execute_result"
    }
   ],
   "source": [
    "# Import pandas under the alias pd\n",
    "import pandas as pd\n",
    "\n",
    "# Load the CSV \"credit_records.csv\"\n",
    "credit_records = pd.read_csv('datasets/credit_records.csv')\n",
    "\n",
    "# Display the first five rows of credit_records using the .head() method\n",
    "credit_records.head()\n"
   ]
  },
  {
   "cell_type": "markdown",
   "metadata": {},
   "source": [
    "### Inspecting a DataFrame\n",
    "We've loaded the credit card records of our four suspects into a DataFrame called `credit_records`. Let's learn more about the structure of this DataFrame.\n",
    "\n",
    "The `pandas` module has been imported under the alias `pd`. The DataFrame `credit_records` has already been imported.\n",
    "\n",
    "How many rows are in `credit_records`?"
   ]
  },
  {
   "cell_type": "code",
   "execution_count": 37,
   "metadata": {},
   "outputs": [
    {
     "name": "stdout",
     "output_type": "stream",
     "text": [
      "<class 'pandas.core.frame.DataFrame'>\n",
      "RangeIndex: 104 entries, 0 to 103\n",
      "Data columns (total 5 columns):\n",
      " #   Column    Non-Null Count  Dtype  \n",
      "---  ------    --------------  -----  \n",
      " 0   suspect   104 non-null    object \n",
      " 1   location  104 non-null    object \n",
      " 2   date      104 non-null    object \n",
      " 3   item      104 non-null    object \n",
      " 4   price     104 non-null    float64\n",
      "dtypes: float64(1), object(4)\n",
      "memory usage: 4.2+ KB\n",
      "None\n"
     ]
    }
   ],
   "source": [
    "#Use .info() to inspect the DataFrame credit_records\n",
    "print(credit_records.info())"
   ]
  },
  {
   "cell_type": "code",
   "execution_count": null,
   "metadata": {},
   "outputs": [],
   "source": []
  },
  {
   "cell_type": "code",
   "execution_count": null,
   "metadata": {},
   "outputs": [],
   "source": []
  },
  {
   "cell_type": "code",
   "execution_count": null,
   "metadata": {},
   "outputs": [],
   "source": []
  },
  {
   "cell_type": "code",
   "execution_count": null,
   "metadata": {},
   "outputs": [],
   "source": []
  },
  {
   "cell_type": "code",
   "execution_count": null,
   "metadata": {},
   "outputs": [],
   "source": []
  },
  {
   "cell_type": "code",
   "execution_count": null,
   "metadata": {},
   "outputs": [],
   "source": []
  },
  {
   "cell_type": "code",
   "execution_count": null,
   "metadata": {},
   "outputs": [],
   "source": []
  },
  {
   "cell_type": "code",
   "execution_count": null,
   "metadata": {},
   "outputs": [],
   "source": []
  },
  {
   "cell_type": "code",
   "execution_count": null,
   "metadata": {},
   "outputs": [],
   "source": []
  },
  {
   "cell_type": "code",
   "execution_count": null,
   "metadata": {},
   "outputs": [],
   "source": []
  },
  {
   "cell_type": "code",
   "execution_count": null,
   "metadata": {},
   "outputs": [],
   "source": []
  },
  {
   "cell_type": "code",
   "execution_count": null,
   "metadata": {},
   "outputs": [],
   "source": []
  },
  {
   "cell_type": "code",
   "execution_count": null,
   "metadata": {},
   "outputs": [],
   "source": []
  },
  {
   "cell_type": "code",
   "execution_count": 33,
   "metadata": {},
   "outputs": [],
   "source": [
    "suspect = pd.DataFrame(suspect)\n",
    "location = pd.DataFrame(location)\n",
    "date = pd.DataFrame(date)\n",
    "item = pd.DataFrame(item)\n",
    "price = pd.DataFrame(price)\n",
    "\n",
    "df = pd.concat([suspect, location, date, item, price], axis=1)\n",
    "df.columns = ['suspect', 'location', 'date', 'item', 'price']\n",
    "df.to_csv('datasets/credit_records.csv', index=None)"
   ]
  },
  {
   "cell_type": "code",
   "execution_count": 34,
   "metadata": {},
   "outputs": [
    {
     "data": {
      "text/html": [
       "<div>\n",
       "<style scoped>\n",
       "    .dataframe tbody tr th:only-of-type {\n",
       "        vertical-align: middle;\n",
       "    }\n",
       "\n",
       "    .dataframe tbody tr th {\n",
       "        vertical-align: top;\n",
       "    }\n",
       "\n",
       "    .dataframe thead th {\n",
       "        text-align: right;\n",
       "    }\n",
       "</style>\n",
       "<table border=\"1\" class=\"dataframe\">\n",
       "  <thead>\n",
       "    <tr style=\"text-align: right;\">\n",
       "      <th></th>\n",
       "      <th>suspect</th>\n",
       "      <th>location</th>\n",
       "      <th>date</th>\n",
       "      <th>item</th>\n",
       "      <th>price</th>\n",
       "    </tr>\n",
       "  </thead>\n",
       "  <tbody>\n",
       "    <tr>\n",
       "      <th>0</th>\n",
       "      <td>Kirstine Smith</td>\n",
       "      <td>Groceries R Us</td>\n",
       "      <td>January 6, 2018</td>\n",
       "      <td>broccoli</td>\n",
       "      <td>1.25</td>\n",
       "    </tr>\n",
       "    <tr>\n",
       "      <th>1</th>\n",
       "      <td>Gertrude Cox</td>\n",
       "      <td>Petroleum Plaza</td>\n",
       "      <td>January 6, 2018</td>\n",
       "      <td>fizzy drink</td>\n",
       "      <td>1.90</td>\n",
       "    </tr>\n",
       "    <tr>\n",
       "      <th>2</th>\n",
       "      <td>Fred Frequentist</td>\n",
       "      <td>Groceries R Us</td>\n",
       "      <td>January 6, 2018</td>\n",
       "      <td>broccoli</td>\n",
       "      <td>1.25</td>\n",
       "    </tr>\n",
       "    <tr>\n",
       "      <th>3</th>\n",
       "      <td>Gertrude Cox</td>\n",
       "      <td>Groceries R Us</td>\n",
       "      <td>January 12, 2018</td>\n",
       "      <td>broccoli</td>\n",
       "      <td>1.25</td>\n",
       "    </tr>\n",
       "    <tr>\n",
       "      <th>4</th>\n",
       "      <td>Kirstine Smith</td>\n",
       "      <td>Clothing Club</td>\n",
       "      <td>January 9, 2018</td>\n",
       "      <td>shirt</td>\n",
       "      <td>14.25</td>\n",
       "    </tr>\n",
       "  </tbody>\n",
       "</table>\n",
       "</div>"
      ],
      "text/plain": [
       "            suspect         location              date         item  price\n",
       "0    Kirstine Smith   Groceries R Us   January 6, 2018     broccoli   1.25\n",
       "1      Gertrude Cox  Petroleum Plaza   January 6, 2018  fizzy drink   1.90\n",
       "2  Fred Frequentist   Groceries R Us   January 6, 2018     broccoli   1.25\n",
       "3      Gertrude Cox   Groceries R Us  January 12, 2018     broccoli   1.25\n",
       "4    Kirstine Smith    Clothing Club   January 9, 2018        shirt  14.25"
      ]
     },
     "execution_count": 34,
     "metadata": {},
     "output_type": "execute_result"
    }
   ],
   "source": [
    "pd.read_csv('datasets/credit_records.csv').head()"
   ]
  }
 ],
 "metadata": {
  "kernelspec": {
   "display_name": "Python 3",
   "language": "python",
   "name": "python3"
  },
  "language_info": {
   "codemirror_mode": {
    "name": "ipython",
    "version": 3
   },
   "file_extension": ".py",
   "mimetype": "text/x-python",
   "name": "python",
   "nbconvert_exporter": "python",
   "pygments_lexer": "ipython3",
   "version": "3.7.6"
  }
 },
 "nbformat": 4,
 "nbformat_minor": 4
}
